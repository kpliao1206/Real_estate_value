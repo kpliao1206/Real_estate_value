{
 "cells": [
  {
   "cell_type": "code",
   "execution_count": null,
   "metadata": {},
   "outputs": [],
   "source": [
    "import torch\n",
    "import numpy as np\n",
    "from ANN_model import Others_features12_NN\n",
    "from Dataset import Features12_dataset\n",
    "from Utils import loss_plot\n",
    "from torch.utils.data import DataLoader\n",
    "from Train import train_model"
   ]
  },
  {
   "cell_type": "code",
   "execution_count": null,
   "metadata": {},
   "outputs": [],
   "source": [
    "BATCH_SIZE = 32\n",
    "RANDOM_STATE = 42\n",
    "\n",
    "X = np.load('Grouped_by_city/others_features12_train.npy')\n",
    "y = np.load('Grouped_by_city/others_target_train.npy')\n",
    "\n",
    "train_dataset = Features12_dataset(X, y, train=True, random_state=RANDOM_STATE)\n",
    "test_dataset = Features12_dataset(X, y, train=False, random_state=RANDOM_STATE)\n",
    "print('Total num of data:', train_dataset.__len__()+test_dataset.__len__())\n",
    "y_scaler_train = train_dataset.get_y_scaler()\n",
    "y_scaler_test = test_dataset.get_y_scaler()\n",
    "\n",
    "train_loader = DataLoader(train_dataset, batch_size=BATCH_SIZE, shuffle=True)\n",
    "test_loader = DataLoader(test_dataset, batch_size=test_dataset.__len__(), shuffle=False)"
   ]
  },
  {
   "cell_type": "code",
   "execution_count": null,
   "metadata": {},
   "outputs": [],
   "source": [
    "model = Others_features12_NN()\n",
    "model_trained, trainloss, testloss = train_model(model, train_loader, test_loader, y_scaler_train, y_scaler_test, num_epochs=500, lr=0.01, weight_decay=1e-4, factor=0.5, min_lr=1e-6, patience=50, threshold=0.001)"
   ]
  },
  {
   "cell_type": "code",
   "execution_count": null,
   "metadata": {},
   "outputs": [],
   "source": [
    "from Utils import save_with_unique_name \n",
    "#### 記得改檔名 ####\n",
    "filename = 'Models/others_features12_model1.pt'\n",
    "filename = save_with_unique_name(filename)\n",
    "torch.save(model_trained.state_dict(), filename)"
   ]
  },
  {
   "cell_type": "code",
   "execution_count": null,
   "metadata": {},
   "outputs": [],
   "source": [
    "from Utils import true_pred_plot, model_pred\n",
    "\n",
    "pred_test, true_test = model_pred(model_trained, test_loader, y_scaler_test)\n",
    "true_pred_plot(pred_test, true_test)"
   ]
  },
  {
   "cell_type": "code",
   "execution_count": null,
   "metadata": {},
   "outputs": [],
   "source": [
    "train_loader = DataLoader(train_dataset, batch_size=1, shuffle=False)\n",
    "pred_train, true_train = model_pred(model_trained, train_loader, y_scaler_train)\n",
    "true_pred_plot(pred_train, true_train)"
   ]
  }
 ],
 "metadata": {
  "kernelspec": {
   "display_name": "python39",
   "language": "python",
   "name": "python3"
  },
  "language_info": {
   "name": "python",
   "version": "3.9.16"
  },
  "orig_nbformat": 4
 },
 "nbformat": 4,
 "nbformat_minor": 2
}
