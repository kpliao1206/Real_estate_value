{
 "cells": [
  {
   "cell_type": "code",
   "execution_count": 1,
   "metadata": {},
   "outputs": [],
   "source": [
    "import twd97\n",
    "import numpy as np\n",
    "import pandas as pd"
   ]
  },
  {
   "cell_type": "code",
   "execution_count": 5,
   "metadata": {},
   "outputs": [],
   "source": [
    "training_data_path = 'D:/永豐攻房戰/30_Training Dataset_V2/training_data.csv'\n",
    "training_data_df = pd.read_csv(training_data_path)\n",
    "coord_data = training_data_df[['ID', '縣市', '橫坐標', '縱坐標', '單價']]\n",
    "\n",
    "# 將twd97的經緯度格式轉換成wgs84\n",
    "twd97_x = coord_data['橫坐標'].to_list()\n",
    "twd97_y = coord_data['縱坐標'].to_list()\n",
    "wgs84 = []\n",
    "for i in range(len(twd97_x)):\n",
    "    wgs84.append(twd97.towgs84(twd97_x[i], twd97_y[i]))\n",
    "wgs84 = np.array(wgs84)\n",
    "wgs84_df = pd.DataFrame({'wgs84_x':wgs84[:, 0], 'wgs84_y':wgs84[:, 1]}).astype(float)\n",
    "\n",
    "# 加回coord_data\n",
    "coord_data_new = pd.concat([coord_data, wgs84_df], axis=1)\n",
    "coord_data_new.drop(columns = ['橫坐標', '縱坐標'], inplace=True)\n",
    "\n",
    "city_group = coord_data_new.groupby('縣市') # 依照縣市分組\n",
    "taipei_df = city_group.get_group('台北市')\n",
    "newtaipei_df = city_group.get_group('新北市')\n",
    "taoyuan_df = city_group.get_group('桃園市')\n",
    "taichung_df = city_group.get_group('台中市')\n",
    "tainan_df =  city_group.get_group('台南市')\n",
    "kaoshung_df = city_group.get_group('高雄市')\n",
    "\n",
    "taipei_df.to_csv('wgs84/taipei.csv')\n",
    "newtaipei_df.to_csv('wgs84/newtaipei.csv')\n",
    "taoyuan_df.to_csv('wgs84/taoyuan.csv')\n",
    "taichung_df.to_csv('wgs84/taichung.csv')\n",
    "tainan_df.to_csv('wgs84/tainan.csv')\n",
    "kaoshung_df.to_csv('wgs84/kaoshiung.csv')"
   ]
  },
  {
   "cell_type": "code",
   "execution_count": null,
   "metadata": {},
   "outputs": [],
   "source": []
  }
 ],
 "metadata": {
  "kernelspec": {
   "display_name": "python39",
   "language": "python",
   "name": "python3"
  },
  "language_info": {
   "codemirror_mode": {
    "name": "ipython",
    "version": 3
   },
   "file_extension": ".py",
   "mimetype": "text/x-python",
   "name": "python",
   "nbconvert_exporter": "python",
   "pygments_lexer": "ipython3",
   "version": "3.9.15"
  }
 },
 "nbformat": 4,
 "nbformat_minor": 2
}
