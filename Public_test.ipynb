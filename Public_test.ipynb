{
 "cells": [
  {
   "cell_type": "code",
   "execution_count": 38,
   "metadata": {},
   "outputs": [],
   "source": [
    "import numpy as np\n",
    "import pandas as pd\n",
    "import matplotlib.pyplot as plt\n",
    "from sklearn.preprocessing import StandardScaler\n",
    "import torch"
   ]
  },
  {
   "cell_type": "code",
   "execution_count": 39,
   "metadata": {},
   "outputs": [
    {
     "name": "stdout",
     "output_type": "stream",
     "text": [
      "(5876, 12)\n",
      "(5876, 1)\n"
     ]
    }
   ],
   "source": [
    "# load public test data\n",
    "path = 'D:/永豐攻房戰/30_Public Dataset_Public Sumission Template_v2/public_dataset.csv'\n",
    "public_df = pd.read_csv(path)\n",
    "numeric_data = public_df[['土地面積', '移轉層次', '總樓層數', '屋齡', '建物面積', '車位面積', '車位個數', '橫坐標', '縱坐標', '主建物面積', '陽台面積', '附屬建物面積']] # 12 features\n",
    "numeric_data = numeric_data.to_numpy()\n",
    "ids = public_df[['ID']]\n",
    "ids = ids.to_numpy()\n",
    "print(numeric_data.shape)\n",
    "print(ids.shape)\n",
    "\n",
    "scaler_X, scaler_Y = StandardScaler(), StandardScaler()\n",
    "scaler_X.fit(numeric_data)\n",
    "X_scaled = scaler_X.transform(numeric_data)"
   ]
  },
  {
   "cell_type": "code",
   "execution_count": 40,
   "metadata": {},
   "outputs": [
    {
     "data": {
      "text/plain": [
       "array([[1.5173385],\n",
       "       [1.6378891],\n",
       "       [2.6522584],\n",
       "       ...,\n",
       "       [2.0663254],\n",
       "       [2.9121323],\n",
       "       [2.461849 ]], dtype=float32)"
      ]
     },
     "execution_count": 40,
     "metadata": {},
     "output_type": "execute_result"
    }
   ],
   "source": [
    "# load model\n",
    "from ANN_model import Features12_NN\n",
    "\n",
    "STATEDICT_PATH = 'Models/features12_model4.pt'\n",
    "model = Features12_NN()\n",
    "model.load_state_dict(torch.load(STATEDICT_PATH))\n",
    "model.eval()\n",
    "input = torch.from_numpy(X_scaled).type(torch.FloatTensor)\n",
    "y_pred = torch.exp(model(input)).detach().numpy() # exp 還原 log\n",
    "y_pred"
   ]
  },
  {
   "cell_type": "code",
   "execution_count": 41,
   "metadata": {},
   "outputs": [],
   "source": [
    "template = pd.read_csv('D:/永豐攻房戰/30_Public Dataset_Public Sumission Template_v2/public_submission_template.csv')\n",
    "template['predicted_price'] = y_pred\n",
    "template.to_csv('Submissions/public_submission_2.csv', index=False)"
   ]
  },
  {
   "cell_type": "code",
   "execution_count": null,
   "metadata": {},
   "outputs": [],
   "source": []
  }
 ],
 "metadata": {
  "kernelspec": {
   "display_name": "python39",
   "language": "python",
   "name": "python3"
  },
  "language_info": {
   "codemirror_mode": {
    "name": "ipython",
    "version": 3
   },
   "file_extension": ".py",
   "mimetype": "text/x-python",
   "name": "python",
   "nbconvert_exporter": "python",
   "pygments_lexer": "ipython3",
   "version": "3.9.15"
  }
 },
 "nbformat": 4,
 "nbformat_minor": 2
}
